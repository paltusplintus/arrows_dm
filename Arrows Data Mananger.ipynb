{
 "cells": [
  {
   "cell_type": "code",
   "execution_count": 1,
   "id": "a5a90e79",
   "metadata": {},
   "outputs": [
    {
     "data": {
      "application/vnd.jupyter.widget-view+json": {
       "model_id": "669d4f6c4c6749ad8319adc832b17f08",
       "version_major": 2,
       "version_minor": 0
      },
      "text/plain": [
       "AppTabs(children=[Tab(children=['Arrows Manager']), TabItem(children=[TabArrowsManager(children=[Row(children=…"
      ]
     },
     "metadata": {},
     "output_type": "display_data"
    }
   ],
   "source": [
    "from src.appmain import AppTabs\n",
    "\n",
    "app = AppTabs()\n",
    "app"
   ]
  }
 ],
 "metadata": {
  "kernelspec": {
   "display_name": "Python 3",
   "language": "python",
   "name": "python3"
  },
  "language_info": {
   "codemirror_mode": {
    "name": "ipython",
    "version": 3
   },
   "file_extension": ".py",
   "mimetype": "text/x-python",
   "name": "python",
   "nbconvert_exporter": "python",
   "pygments_lexer": "ipython3",
   "version": "3.6.9"
  }
 },
 "nbformat": 4,
 "nbformat_minor": 5
}
